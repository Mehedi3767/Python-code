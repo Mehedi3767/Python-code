{
 "cells": [
  {
   "cell_type": "code",
   "execution_count": 12,
   "metadata": {},
   "outputs": [
    {
     "name": "stdout",
     "output_type": "stream",
     "text": [
      "25\n",
      "<function printer at 0x0000022789AB59D8>\n"
     ]
    }
   ],
   "source": [
    "x = 25 \n",
    "\n",
    "def printer ():\n",
    "    x = 50\n",
    "    return (x)\n",
    "print (x)\n",
    "print (printer)\n"
   ]
  },
  {
   "cell_type": "code",
   "execution_count": 14,
   "metadata": {},
   "outputs": [
    {
     "name": "stdout",
     "output_type": "stream",
     "text": [
      "25\n"
     ]
    }
   ],
   "source": [
    "print (x)"
   ]
  },
  {
   "cell_type": "code",
   "execution_count": 24,
   "metadata": {},
   "outputs": [
    {
     "name": "stdout",
     "output_type": "stream",
     "text": [
      "hello Sammy\n"
     ]
    }
   ],
   "source": [
    "name = (\"This is a global name\")\n",
    "\n",
    "def greet():\n",
    "    \n",
    "    name = (\"Sammy\")\n",
    "    def hello ():\n",
    "        \n",
    "        print (\"hello \"+name)\n",
    "    hello()\n",
    "greet()"
   ]
  },
  {
   "cell_type": "code",
   "execution_count": null,
   "metadata": {},
   "outputs": [],
   "source": [
    "#local Variables"
   ]
  },
  {
   "cell_type": "code",
   "execution_count": 26,
   "metadata": {},
   "outputs": [
    {
     "name": "stdout",
     "output_type": "stream",
     "text": [
      "x is 50\n",
      "Changed local x to 2\n",
      "x is still 50\n"
     ]
    }
   ],
   "source": [
    "x = 50 \n",
    "def func(x):\n",
    "    print (\"x is\", x)\n",
    "    x = 2\n",
    "    print (\"Changed local x to\",x)\n",
    "func(x)\n",
    "print (\"x is still\",x)"
   ]
  },
  {
   "cell_type": "code",
   "execution_count": 27,
   "metadata": {},
   "outputs": [],
   "source": [
    "#Global Statement "
   ]
  },
  {
   "cell_type": "code",
   "execution_count": 38,
   "metadata": {},
   "outputs": [
    {
     "name": "stdout",
     "output_type": "stream",
     "text": [
      "Before calling func(),x is : 50\n",
      "This is function is now using the global x!\n",
      "Beacuse of global x is : 50\n",
      "Ran func(),Changed global x to\n",
      "Value of x (outside of func())is: 2\n"
     ]
    }
   ],
   "source": [
    "x = 50\n",
    "def func ():\n",
    "    global x \n",
    "    print (\"This is function is now using the global x!\")\n",
    "    print (\"Beacuse of global x is :\", x)\n",
    "    x = 2\n",
    "    print (\"Ran func(),Changed global x to\",)\n",
    "print (\"Before calling func(),x is :\",x)\n",
    "func()\n",
    "print (\"Value of x (outside of func())is:\", x)"
   ]
  },
  {
   "cell_type": "code",
   "execution_count": null,
   "metadata": {},
   "outputs": [],
   "source": []
  }
 ],
 "metadata": {
  "kernelspec": {
   "display_name": "Python 3",
   "language": "python",
   "name": "python3"
  },
  "language_info": {
   "codemirror_mode": {
    "name": "ipython",
    "version": 3
   },
   "file_extension": ".py",
   "mimetype": "text/x-python",
   "name": "python",
   "nbconvert_exporter": "python",
   "pygments_lexer": "ipython3",
   "version": "3.7.0"
  }
 },
 "nbformat": 4,
 "nbformat_minor": 2
}
