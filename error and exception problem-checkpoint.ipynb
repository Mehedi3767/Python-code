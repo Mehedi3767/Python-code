{
 "cells": [
  {
   "cell_type": "code",
   "execution_count": 6,
   "metadata": {},
   "outputs": [
    {
     "name": "stdout",
     "output_type": "stream",
     "text": [
      "An error ocurred! \n"
     ]
    }
   ],
   "source": [
    "#problem 1\n",
    "\n",
    "try:\n",
    "    for i in [\"a\",\"b\",\"c\"]:\n",
    "        print (i**2)\n",
    "except:\n",
    "        print (\"An error ocurred! \")"
   ]
  },
  {
   "cell_type": "code",
   "execution_count": 10,
   "metadata": {},
   "outputs": [
    {
     "name": "stdout",
     "output_type": "stream",
     "text": [
      "Can't  divide by Zero !\n",
      "All Done !\n"
     ]
    }
   ],
   "source": [
    "#problem 2\n",
    "\n",
    "x = 5\n",
    "y= 0\n",
    "try:\n",
    "    z = x/y\n",
    "except ZeroDivisionError:\n",
    "        print (\"Can't  divide by Zero !\")\n",
    "finally:\n",
    "            print (\"All Done !\")\n",
    "            "
   ]
  },
  {
   "cell_type": "code",
   "execution_count": null,
   "metadata": {},
   "outputs": [],
   "source": [
    "#proiblem 3\n",
    "def ask():\n",
    "    while True:\n",
    "        try:\n",
    "            n= input (\"Input an integer: \")\n",
    "        except:\n",
    "                print (\"An error occured! please try again !\")\n",
    "                continue\n",
    "            else:\n",
    "                    break\n",
    "                    print (\"Thank You , your number is squared is : \",n**2)"
   ]
  },
  {
   "cell_type": "code",
   "execution_count": null,
   "metadata": {},
   "outputs": [],
   "source": []
  },
  {
   "cell_type": "code",
   "execution_count": null,
   "metadata": {},
   "outputs": [],
   "source": []
  },
  {
   "cell_type": "code",
   "execution_count": null,
   "metadata": {},
   "outputs": [],
   "source": []
  }
 ],
 "metadata": {
  "kernelspec": {
   "display_name": "Python 3",
   "language": "python",
   "name": "python3"
  },
  "language_info": {
   "codemirror_mode": {
    "name": "ipython",
    "version": 3
   },
   "file_extension": ".py",
   "mimetype": "text/x-python",
   "name": "python",
   "nbconvert_exporter": "python",
   "pygments_lexer": "ipython3",
   "version": "3.7.0"
  }
 },
 "nbformat": 4,
 "nbformat_minor": 2
}
