{
 "cells": [
  {
   "cell_type": "code",
   "execution_count": 9,
   "metadata": {},
   "outputs": [
    {
     "ename": "SyntaxError",
     "evalue": "invalid syntax (<ipython-input-9-23888bfabe95>, line 20)",
     "output_type": "error",
     "traceback": [
      "\u001b[1;36m  File \u001b[1;32m\"<ipython-input-9-23888bfabe95>\"\u001b[1;36m, line \u001b[1;32m20\u001b[0m\n\u001b[1;33m    card_val = {\"A\" :1,\"2\":2,\"3\":3,\"4\":4,\"5\":5,\"6\":6,\"7\":7,\"8\":8,\"9\":9,\"10\":10,\"J\":10,\"Q\",:10\"K\":10}\u001b[0m\n\u001b[1;37m                                                                                         ^\u001b[0m\n\u001b[1;31mSyntaxError\u001b[0m\u001b[1;31m:\u001b[0m invalid syntax\n"
     ]
    }
   ],
   "source": [
    "#Used for card shuffle\n",
    "import random\n",
    "\n",
    "#Boolean used to know if hand is in play\n",
    "playing = False\n",
    "\n",
    "chip_pool = 100 #Could aslo make this raw input.\n",
    "bet = 1\n",
    "restart_phrase = \"press 'd' to deal the cards again ,or press'q' to quit \"\n",
    "\n",
    "#Hearts,Dimonds,Clubs,Spades\n",
    "suit = (\"H\",\"D\",\"C\",\"S\")\n",
    "\n",
    "# possible card rank\n",
    "\n",
    "ranking = (\"A\",\"2\",\"3\",\"4\",\"5\",\"6\",\"7\",\"8\",\"9\",\"10\",\"J\",\"Q\",\"K\")\n",
    "\n",
    "#point values dict (Note:Acess can Also be 11,check self.ace for deatils)\n",
    "\n",
    "card_val = {\"A\" :1,\"2\":2,\"3\":3,\"4\":4,\"5\":5,\"6\":6,\"7\":7,\"8\":8,\"9\":9,\"10\":10,\"J\":10,\"Q\",:10\"K\":10}\n",
    "            "
   ]
  },
  {
   "cell_type": "code",
   "execution_count": null,
   "metadata": {},
   "outputs": [],
   "source": []
  }
 ],
 "metadata": {
  "kernelspec": {
   "display_name": "Python 3",
   "language": "python",
   "name": "python3"
  },
  "language_info": {
   "codemirror_mode": {
    "name": "ipython",
    "version": 3
   },
   "file_extension": ".py",
   "mimetype": "text/x-python",
   "name": "python",
   "nbconvert_exporter": "python",
   "pygments_lexer": "ipython3",
   "version": "3.7.0"
  }
 },
 "nbformat": 4,
 "nbformat_minor": 2
}
